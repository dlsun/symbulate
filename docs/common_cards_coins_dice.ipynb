{
 "cells": [
  {
   "cell_type": "markdown",
   "metadata": {},
   "source": [
    "# Symbulate Documentation: Cards coins and dice"
   ]
  },
  {
   "cell_type": "markdown",
   "metadata": {},
   "source": [
    " 1. [**Dice**](#dice) \n",
    " 1. [**Coins**](#coins)\n",
    " 1. [**Cards**](#cards)"
   ]
  },
  {
   "cell_type": "markdown",
   "metadata": {},
   "source": [
    "< [Random variables](rv.html) | [Contents](index.html) | [General comments for named distributions](common_general_comments.html) >"
   ]
  },
  {
   "cell_type": "markdown",
   "metadata": {},
   "source": [
    "Instructions for downloading and installing Symbulate can be found [here](http://calpoly.edu/~dsun09/python.html). During a session, be sure to import Symbulate using the following commands."
   ]
  },
  {
   "cell_type": "code",
   "execution_count": 1,
   "metadata": {
    "collapsed": true
   },
   "outputs": [],
   "source": [
    "fromb symbulate import *\n",
    "%matplotlib inline"
   ]
  },
  {
   "cell_type": "markdown",
   "metadata": {},
   "source": [
    "<a id='box'></a>"
   ]
  },
  {
   "cell_type": "markdown",
   "metadata": {},
   "source": [
    "<a id='dice'></a>\n",
    "Many probabilistic situations involving physical objects like cards, coins, and dice can be specified with [BoxModel](probspace.html#boxmodel).\n",
    "\n",
    "*Example*.  Rolling a fair n-sided die (with n=6)."
   ]
  },
  {
   "cell_type": "code",
   "execution_count": 2,
   "metadata": {
    "collapsed": false
   },
   "outputs": [
    {
     "data": {
      "image/png": "[encoded data removed]",
      "text/plain": [
       "<matplotlib.figure.Figure at 0x10b6f1438>"
      ]
     },
     "metadata": {},
     "output_type": "display_data"
    }
   ],
   "source": [
    "n = 6\n",
    "die = list(range(1, n+1))\n",
    "P = BoxModel(die)\n",
    "RV(P).sim(10000).plot()"
   ]
  },
  {
   "cell_type": "markdown",
   "metadata": {},
   "source": [
    "<a id='coins'></a>\n",
    "*Example.* Flipping a fair coin twice and recording the results in sequence."
   ]
  },
  {
   "cell_type": "code",
   "execution_count": 3,
   "metadata": {
    "collapsed": false
   },
   "outputs": [
    {
     "data": {
      "text/html": [
       "\n",
       "    <table>\n",
       "      <thead>\n",
       "        <th width=\"80%\">Outcome</th>\n",
       "        <th width=\"20%\">Value</th>\n",
       "      </thead>\n",
       "      <tbody>\n",
       "        <tr><td>('H', 'H')</td><td>0.2441</td></tr><tr><td>('H', 'T')</td><td>0.2541</td></tr><tr><td>('T', 'H')</td><td>0.2538</td></tr><tr><td>('T', 'T')</td><td>0.248</td></tr><tr><td><b>Total</b></td><td><b>1.0</b></td></tr>\n",
       "      </tbody>\n",
       "    </table>\n",
       "    "
      ],
      "text/plain": [
       "{('H', 'H'): 0.2441, ('H', 'T'): 0.2541, ('T', 'H'): 0.2538, ('T', 'T'): 0.248}"
      ]
     },
     "execution_count": 3,
     "metadata": {},
     "output_type": "execute_result"
    }
   ],
   "source": [
    "P = BoxModel(['H', 'T'], size = 2, order_matters = True)\n",
    "P.sim(10000).tabulate(normalize = True)"
   ]
  },
  {
   "cell_type": "markdown",
   "metadata": {},
   "source": [
    "*Example.* Unequally likely outcomes on a colored \"spinner\"."
   ]
  },
  {
   "cell_type": "code",
   "execution_count": 4,
   "metadata": {
    "collapsed": false
   },
   "outputs": [
    {
     "data": {
      "text/html": [
       "\n",
       "    <table>\n",
       "      <thead>\n",
       "        <th width=\"80%\">Outcome</th>\n",
       "        <th width=\"20%\">Value</th>\n",
       "      </thead>\n",
       "      <tbody>\n",
       "        <tr><td>brown</td><td>0.2516</td></tr><tr><td>orange</td><td>0.4986</td></tr><tr><td>yellow</td><td>0.2498</td></tr><tr><td><b>Total</b></td><td><b>1.0</b></td></tr>\n",
       "      </tbody>\n",
       "    </table>\n",
       "    "
      ],
      "text/plain": [
       "{'brown': 0.2516, 'orange': 0.4986, 'yellow': 0.2498}"
      ]
     },
     "execution_count": 4,
     "metadata": {},
     "output_type": "execute_result"
    }
   ],
   "source": [
    "P = BoxModel(['orange', 'brown', 'yellow'], probs = [0.5, 0.25, 0.25])\n",
    "P.sim(10000).tabulate(normalize = True)"
   ]
  },
  {
   "cell_type": "markdown",
   "metadata": {},
   "source": [
    "<a id='cards'></a>\n",
    "`DeckOfCards()` is a special case of BoxModel for drawing from a standard deck of 52 cards.  By default `replace = False`."
   ]
  },
  {
   "cell_type": "code",
   "execution_count": 5,
   "metadata": {
    "collapsed": false,
    "scrolled": true
   },
   "outputs": [
    {
     "data": {
      "text/html": [
       "\n",
       "    <table>\n",
       "      <thead>\n",
       "        <th width=\"10%\">Index</th>\n",
       "        <th width=\"90%\">Result</th>\n",
       "      </thead>\n",
       "      <tbody>\n",
       "        \n",
       "        <tr>\n",
       "          <td>0</td><td>((8, 'Hearts'), (4, 'Diamonds'), (9, 'Clubs'), (5, 'Clubs'), (3, 'Diamonds'))</td>\n",
       "        </tr>\n",
       "        \n",
       "        <tr>\n",
       "          <td>1</td><td>((3, 'Clubs'), (7, 'Spades'), (9, 'Clubs'), ('Q', 'Diamonds'), (10, 'Diamonds'))</td>\n",
       "        </tr>\n",
       "        \n",
       "        <tr>\n",
       "          <td>2</td><td>(('Q', 'Spades'), ('J', 'Clubs'), ('A', 'Clubs'), (3, 'Diamonds'), ('J', 'Hearts'))</td>\n",
       "        </tr>\n",
       "        \n",
       "      </tbody>\n",
       "    </table>\n",
       "    "
      ],
      "text/plain": [
       "[((8, 'Hearts'), (4, 'Diamonds'), (9, 'Clubs'), (5, 'Clubs'), (3, 'Diamonds')),\n",
       " ((3, 'Clubs'),\n",
       "  (7, 'Spades'),\n",
       "  (9, 'Clubs'),\n",
       "  ('Q', 'Diamonds'),\n",
       "  (10, 'Diamonds')),\n",
       " (('Q', 'Spades'),\n",
       "  ('J', 'Clubs'),\n",
       "  ('A', 'Clubs'),\n",
       "  (3, 'Diamonds'),\n",
       "  ('J', 'Hearts'))]"
      ]
     },
     "execution_count": 5,
     "metadata": {},
     "output_type": "execute_result"
    }
   ],
   "source": [
    "DeckOfCards(size = 5).sim(3)"
   ]
  },
  {
   "cell_type": "markdown",
   "metadata": {},
   "source": [
    "< [Random variables](rv.html) | [Contents](index.html) | [General comments for named distributions](common_general_comments.html) >"
   ]
  },
  {
   "cell_type": "code",
   "execution_count": null,
   "metadata": {
    "collapsed": true
   },
   "outputs": [],
   "source": []
  }
 ],
 "metadata": {
  "kernelspec": {
   "display_name": "Python 3",
   "language": "python",
   "name": "python3"
  },
  "language_info": {
   "codemirror_mode": {
    "name": "ipython",
    "version": 3
   },
   "file_extension": ".py",
   "mimetype": "text/x-python",
   "name": "python",
   "nbconvert_exporter": "python",
   "pygments_lexer": "ipython3",
   "version": "3.6.0"
  }
 },
 "nbformat": 4,
 "nbformat_minor": 2
}
