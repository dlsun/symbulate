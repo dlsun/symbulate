{
 "cells": [
  {
   "cell_type": "markdown",
   "metadata": {},
   "source": [
    "# Symbulate Documentation: General Comments for Named Distributions "
   ]
  },
  {
   "cell_type": "markdown",
   "metadata": {},
   "source": [
    "1. [**.pdf()**](#pdf)\n",
    "1. [**.cdf()**](#cdf)\n",
    "1. [**.mean()**](#mean)\n",
    "1. [**.sd()/.var()**](#sd)\n",
    "1. [**.median()**](#median)\n",
    "1. [**.quantile()**](#quantile)"
   ]
  },
  {
   "cell_type": "markdown",
   "metadata": {},
   "source": [
    "< [Cards, coins, and dice](common_cards_coins_dice.html) | [Contents](index.html) | [Discrete distributions](common_discrete.html) >"
   ]
  },
  {
   "cell_type": "markdown",
   "metadata": {},
   "source": [
    "Instructions for downloading and installing Symbulate can be found [here](http://calpoly.edu/~dsun09/python.html). During a session, be sure to import Symbulate using the following commands."
   ]
  },
  {
   "cell_type": "code",
   "execution_count": 1,
   "metadata": {
    "collapsed": true
   },
   "outputs": [],
   "source": [
    "from symbulate import *\n",
    "%matplotlib inline"
   ]
  },
  {
   "cell_type": "markdown",
   "metadata": {},
   "source": [
    "Many commonly used probability models are built into Symbulate. These models can be used to either specify probability spaces or distributions of random variables. The following functions can be applied directly to the common distributions built into Symbulate."
   ]
  },
  {
   "cell_type": "markdown",
   "metadata": {},
   "source": [
    "<a id='pdf'></a>"
   ]
  },
  {
   "cell_type": "markdown",
   "metadata": {},
   "source": [
    "The probability density functions and probability mass functions of distributions in Symbulate are available using **.pdf()**.\n",
    "\n",
    "*Example*. The actual `Binomial(n = 5, p = 0.5)` pmf for `P(x = 3)`."
   ]
  },
  {
   "cell_type": "code",
   "execution_count": 7,
   "metadata": {
    "collapsed": false
   },
   "outputs": [
    {
     "data": {
      "text/plain": [
       "0.3125"
      ]
     },
     "execution_count": 7,
     "metadata": {},
     "output_type": "execute_result"
    }
   ],
   "source": [
    "Binomial(n = 5, p = 0.5).pdf(3)"
   ]
  },
  {
   "cell_type": "markdown",
   "metadata": {},
   "source": [
    "<a id='cdf'></a>"
   ]
  },
  {
   "cell_type": "markdown",
   "metadata": {},
   "source": [
    "The cumulative density functions of distributions in Symbulate are available using **.cdf()**.\n",
    "\n",
    "*Example*. The actual probability that a value from the `Binomial(n = 5, p = 0.5)` distribution is less than or equal to 2."
   ]
  },
  {
   "cell_type": "code",
   "execution_count": 8,
   "metadata": {
    "collapsed": false
   },
   "outputs": [
    {
     "data": {
      "text/plain": [
       "0.5"
      ]
     },
     "execution_count": 8,
     "metadata": {},
     "output_type": "execute_result"
    }
   ],
   "source": [
    "Binomial(n = 5, p = 0.5).cdf(2)"
   ]
  },
  {
   "cell_type": "markdown",
   "metadata": {},
   "source": [
    "<a id='mean'></a>"
   ]
  },
  {
   "cell_type": "markdown",
   "metadata": {},
   "source": [
    "The **mean** of a distribution is its expected value. The expected value of a distribution can be accessed directly using **.mean()**.\n",
    "\n",
    "*Example*. The average value of the `Binomial(n = 5, p = 0.5)` distribution."
   ]
  },
  {
   "cell_type": "code",
   "execution_count": 9,
   "metadata": {
    "collapsed": false
   },
   "outputs": [
    {
     "data": {
      "text/plain": [
       "2.5"
      ]
     },
     "execution_count": 9,
     "metadata": {},
     "output_type": "execute_result"
    }
   ],
   "source": [
    "Binomial(n = 5, p = 0.5).mean()"
   ]
  },
  {
   "cell_type": "markdown",
   "metadata": {},
   "source": [
    "<a id='sd'></a>"
   ]
  },
  {
   "cell_type": "markdown",
   "metadata": {},
   "source": [
    "Similar to `.mean()`, the variance and the standard deviation of distributions are available using **.sd()** and **.var()** respectively.\n",
    "\n",
    "*Example*. The standard deviation and variance of the `Binomial(n = 5, p = 0.5)` distribution."
   ]
  },
  {
   "cell_type": "code",
   "execution_count": 10,
   "metadata": {
    "collapsed": false
   },
   "outputs": [
    {
     "data": {
      "text/plain": [
       "1.1180339887498949"
      ]
     },
     "execution_count": 10,
     "metadata": {},
     "output_type": "execute_result"
    }
   ],
   "source": [
    "Binomial(n = 5, p = 0.5).sd()"
   ]
  },
  {
   "cell_type": "code",
   "execution_count": 11,
   "metadata": {
    "collapsed": false
   },
   "outputs": [
    {
     "data": {
      "text/plain": [
       "1.25"
      ]
     },
     "execution_count": 11,
     "metadata": {},
     "output_type": "execute_result"
    }
   ],
   "source": [
    "Binomial(n = 5, p = 0.5).var()"
   ]
  },
  {
   "cell_type": "markdown",
   "metadata": {},
   "source": [
    "<a id='median'></a>"
   ]
  },
  {
   "cell_type": "markdown",
   "metadata": {},
   "source": [
    "A **median** of a distribution is any value *m* such that \n",
    "\n",
    "$$\n",
    "P(X \\leq m) \\geq \\frac{1}{2} \\qquad \\text{and} \\qquad P(X \\geq m) \\geq \\frac{1}{2}\n",
    "$$\n",
    "\n",
    "and does not have to be unique. The median of distributions and vectors of simulated values can be accessed using **.median()**."
   ]
  },
  {
   "cell_type": "code",
   "execution_count": 12,
   "metadata": {
    "collapsed": false
   },
   "outputs": [
    {
     "data": {
      "text/plain": [
       "2.0"
      ]
     },
     "execution_count": 12,
     "metadata": {},
     "output_type": "execute_result"
    }
   ],
   "source": [
    "Binomial(n = 5, p = 0.5).median()"
   ]
  },
  {
   "cell_type": "markdown",
   "metadata": {},
   "source": [
    "<a id='quantile'></a>"
   ]
  },
  {
   "cell_type": "markdown",
   "metadata": {},
   "source": [
    "The pth (as a decimal in [0,1]) **quantile** of a distribution is any value *m* such that \n",
    "\n",
    "$$\n",
    "P(X \\leq m) \\geq p \\qquad \\text{and} \\qquad P(X \\geq m) \\geq p\n",
    "$$\n",
    "\n",
    "and does not have to be unique. The pth quantile of distributions and vectors of simulated values can be accessed using **.quantile()**.\n",
    "\n",
    "*Example*. The 60th quantile of the `Binomial(n = 5, p = 0.5)`."
   ]
  },
  {
   "cell_type": "code",
   "execution_count": 21,
   "metadata": {
    "collapsed": false
   },
   "outputs": [
    {
     "data": {
      "text/plain": [
       "3.0"
      ]
     },
     "execution_count": 21,
     "metadata": {},
     "output_type": "execute_result"
    }
   ],
   "source": [
    "Binomial(n = 5, p = 0.5).quantile(0.6)"
   ]
  },
  {
   "cell_type": "markdown",
   "metadata": {},
   "source": [
    "< [Cards, coins, and dice](common_cards_coins_dice.html) | [Contents](index.html) | [Discrete distributions](common_discrete.html) >"
   ]
  }
 ],
 "metadata": {
  "kernelspec": {
   "display_name": "Python 3",
   "language": "python",
   "name": "python3"
  },
  "language_info": {
   "codemirror_mode": {
    "name": "ipython",
    "version": 3
   },
   "file_extension": ".py",
   "mimetype": "text/x-python",
   "name": "python",
   "nbconvert_exporter": "python",
   "pygments_lexer": "ipython3",
   "version": "3.6.0"
  }
 },
 "nbformat": 4,
 "nbformat_minor": 2
}
