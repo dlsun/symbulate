{
 "cells": [
  {
   "cell_type": "markdown",
   "metadata": {},
   "source": [
    "# Symbulate Documentation\n",
    "# Markov Processes"
   ]
  },
  {
   "cell_type": "markdown",
   "metadata": {},
   "source": [
    "<a id='contents'></a>"
   ]
  },
  {
   "cell_type": "markdown",
   "metadata": {},
   "source": [
    "  1. [**Discrete time Markov chains**](#dtmc)\n",
    "  1. [**Continuous time Markov chains**](#ctmc)\n",
    "  1. [**Poisson processes**](#poisson)\n",
    "  1. [**Arrival and jump times**](#times)"
   ]
  },
  {
   "cell_type": "markdown",
   "metadata": {},
   "source": [
    "< [Random processes](process.html) | [Contents](index.html) >"
   ]
  },
  {
   "cell_type": "markdown",
   "metadata": {},
   "source": [
    "Instructions for downloading and installing Symbulate can be found [here](http://calpoly.edu/~dsun09/python.html).  During a session, be sure to import Symbulate using the following commands."
   ]
  },
  {
   "cell_type": "code",
   "execution_count": 1,
   "metadata": {
    "collapsed": true
   },
   "outputs": [],
   "source": [
    "from symbulate import *\n",
    "%matplotlib inline"
   ]
  },
  {
   "cell_type": "markdown",
   "metadata": {
    "collapsed": true
   },
   "source": [
    "<a id='mc'></a>"
   ]
  },
  {
   "cell_type": "markdown",
   "metadata": {},
   "source": [
    "### Markov processes\n",
    "\n"
   ]
  },
  {
   "cell_type": "markdown",
   "metadata": {},
   "source": [
    "Random processes are typically collections of *dependent* random variables, but allowing arbitrary associations between values at different points in time makes analysis intractable.  *Markov processes* are stochastic processes which obey a specific kind of \"next step\" dependence structure.  For a Markov process, roughly speaking, given the present, the future is conditionally independent of the past.  The dependence assumption in Markov chains allows for a rich\n",
    "theory and tractable probabilistic models that have applications in a wide range of situations."
   ]
  },
  {
   "cell_type": "markdown",
   "metadata": {},
   "source": [
    "<a id='dtmc'></a>"
   ]
  },
  {
   "cell_type": "markdown",
   "metadata": {},
   "source": [
    "### Discrete time Markov chains"
   ]
  },
  {
   "cell_type": "markdown",
   "metadata": {},
   "source": [
    "A **discrete time Markov chain** is a discrete time, discrete state [random process](process.html) which satisfies for all $n$:\n",
    "\n",
    "Given $X_n$ (\"the present\"), $(X_{n+1}, X_{n+2}, \\ldots)$ (\"the future\") is conditionally independent of $(X_{n-1}, X_{n-2}, \\ldots, X_0)$ (\"the past\"). \n",
    "\n",
    "In Symbulate a discrete time Markov chain is defined with `MarkovChain`.  The probabilistic behavior of a discrete time Markov chain is fully specified by the following, which are the parameters of `MarkovChain`.\n",
    "\n",
    "* `state_labels`: The **state space** of possible values of the process.  (Default is to label the states 0, 1, 2, ...)\n",
    "* `initia_dist`: The **initial distribution**, which specifies the probability distribution at time 0\n",
    "* `transition_matrix`: The (one-step) **transition probability matrix**, whose $(i, j)$  entry specifies the probability that the chain is in state $j$ at the next time step given that it is currently in state $i$: $P(X_{n+1} = j\\, | X_n = i)$.  All rows sums must be 1.\n",
    "\n",
    "\n",
    "\n",
    "*Example.* The weather in a certain city can be classified as either cloudy, rainy, or sunny and follows a discrete time Markov chain.\n",
    "* Given that it is cloudy today, tomorrow it will be cloudy with probability 0.3, rainy with probability 0.2, or sunny with probability 0.5.\n",
    "* Given that it is rainy today, tomorrow it will be cloudy with probability 0.5, rainy with probability 0.3, or sunny with probability 0.2.\n",
    "* Given that it is sunny today, tomorrow it will be cloudy with probability 0.3, rainy with probability 0, or sunny with probability 0.7.\n",
    "\n",
    "Suppose that it is sunny on Sunday.  (So we'll call Sunday $n=0$.)"
   ]
  },
  {
   "cell_type": "code",
   "execution_count": 2,
   "metadata": {
    "collapsed": true
   },
   "outputs": [],
   "source": [
    "states = [\"cloud\", \"rain\", \"sun\"]\n",
    "\n",
    "TransitionMatrix = [[0.3, 0.2, 0.5],\n",
    "                   [0.5, 0.3, 0.2],\n",
    "                   [0.3, 0.0, 0.7]]\n",
    "\n",
    "InitialDistribution = [0, 0, 1] # sunny on Sunday\n",
    "\n",
    "X = MarkovChain(TransitionMatrix, InitialDistribution, states)"
   ]
  },
  {
   "cell_type": "markdown",
   "metadata": {},
   "source": [
    "Find the probability that it is rainy on Friday ($n=5$)."
   ]
  },
  {
   "cell_type": "code",
   "execution_count": 3,
   "metadata": {
    "collapsed": false
   },
   "outputs": [
    {
     "data": {
      "text/html": [
       "\n",
       "    <table>\n",
       "      <thead>\n",
       "        <th width=\"80%\">Outcome</th>\n",
       "        <th width=\"20%\">Value</th>\n",
       "      </thead>\n",
       "      <tbody>\n",
       "        <tr><td>cloud</td><td>0.3105</td></tr><tr><td>rain</td><td>0.0884</td></tr><tr><td>sun</td><td>0.6011</td></tr><tr><td><b>Total</b></td><td><b>1.0</b></td></tr>\n",
       "      </tbody>\n",
       "    </table>\n",
       "    "
      ],
      "text/plain": [
       "{'cloud': 0.3105, 'rain': 0.0884, 'sun': 0.6011}"
      ]
     },
     "execution_count": 3,
     "metadata": {},
     "output_type": "execute_result"
    }
   ],
   "source": [
    "X[5].sim(10000).tabulate(normalize = True)"
   ]
  },
  {
   "cell_type": "markdown",
   "metadata": {},
   "source": [
    "Find the conditional probability that it is rainy on Friday given that it is rainy on Thursday.  (The following should return, approximately, the second row of the transition matrix.)"
   ]
  },
  {
   "cell_type": "code",
   "execution_count": 4,
   "metadata": {
    "collapsed": false
   },
   "outputs": [
    {
     "data": {
      "text/html": [
       "\n",
       "    <table>\n",
       "      <thead>\n",
       "        <th width=\"80%\">Outcome</th>\n",
       "        <th width=\"20%\">Value</th>\n",
       "      </thead>\n",
       "      <tbody>\n",
       "        <tr><td>cloud</td><td>0.5018</td></tr><tr><td>rain</td><td>0.2944</td></tr><tr><td>sun</td><td>0.2038</td></tr><tr><td><b>Total</b></td><td><b>1.0</b></td></tr>\n",
       "      </tbody>\n",
       "    </table>\n",
       "    "
      ],
      "text/plain": [
       "{'cloud': 0.5018, 'rain': 0.2944, 'sun': 0.2038}"
      ]
     },
     "execution_count": 4,
     "metadata": {},
     "output_type": "execute_result"
    }
   ],
   "source": [
    "(X[5] | (X[4] == \"rain\")).sim(10000).tabulate(normalize = True)"
   ]
  },
  {
   "cell_type": "markdown",
   "metadata": {},
   "source": [
    "Find the conditional probability that it is rainy on Friday given that it is rainy on Thursday and cloudy on Wednesday.  (This demonstrates the Markov property: conditioning additionally on the value of $X_3$ does not change the conditional distribution from the previous part.)"
   ]
  },
  {
   "cell_type": "code",
   "execution_count": 5,
   "metadata": {
    "collapsed": false
   },
   "outputs": [
    {
     "data": {
      "text/html": [
       "\n",
       "    <table>\n",
       "      <thead>\n",
       "        <th width=\"80%\">Outcome</th>\n",
       "        <th width=\"20%\">Value</th>\n",
       "      </thead>\n",
       "      <tbody>\n",
       "        <tr><td>cloud</td><td>0.5084</td></tr><tr><td>rain</td><td>0.2974</td></tr><tr><td>sun</td><td>0.1942</td></tr><tr><td><b>Total</b></td><td><b>1.0</b></td></tr>\n",
       "      </tbody>\n",
       "    </table>\n",
       "    "
      ],
      "text/plain": [
       "{'cloud': 0.5084, 'rain': 0.2974, 'sun': 0.1942}"
      ]
     },
     "execution_count": 5,
     "metadata": {},
     "output_type": "execute_result"
    }
   ],
   "source": [
    "(X[5] | ((X[4] == \"rain\") & (X[3] == \"cloud\"))).sim(10000).tabulate(normalize = True)"
   ]
  },
  {
   "cell_type": "markdown",
   "metadata": {},
   "source": [
    "Find the probability that it is rainy on Friday and Saturday."
   ]
  },
  {
   "cell_type": "code",
   "execution_count": 6,
   "metadata": {
    "collapsed": false
   },
   "outputs": [
    {
     "data": {
      "text/html": [
       "\n",
       "    <table>\n",
       "      <thead>\n",
       "        <th width=\"80%\">Outcome</th>\n",
       "        <th width=\"20%\">Value</th>\n",
       "      </thead>\n",
       "      <tbody>\n",
       "        <tr><td>('cloud', 'cloud')</td><td>0.0911</td></tr><tr><td>('cloud', 'rain')</td><td>0.0646</td></tr><tr><td>('cloud', 'sun')</td><td>0.1619</td></tr><tr><td>('rain', 'cloud')</td><td>0.0465</td></tr><tr><td>('rain', 'rain')</td><td>0.0264</td></tr><tr><td>('rain', 'sun')</td><td>0.0191</td></tr><tr><td>('sun', 'cloud')</td><td>0.1783</td></tr><tr><td>('sun', 'sun')</td><td>0.4121</td></tr><tr><td><b>Total</b></td><td><b>0.9999999999999999</b></td></tr>\n",
       "      </tbody>\n",
       "    </table>\n",
       "    "
      ],
      "text/plain": [
       "{('cloud', 'cloud'): 0.0911,\n",
       " ('cloud', 'rain'): 0.0646,\n",
       " ('cloud', 'sun'): 0.1619,\n",
       " ('rain', 'cloud'): 0.0465,\n",
       " ('rain', 'rain'): 0.0264,\n",
       " ('rain', 'sun'): 0.0191,\n",
       " ('sun', 'cloud'): 0.1783,\n",
       " ('sun', 'sun'): 0.4121}"
      ]
     },
     "execution_count": 6,
     "metadata": {},
     "output_type": "execute_result"
    }
   ],
   "source": [
    "(X[5] & X[6]).sim(10000).tabulate(normalize = True)"
   ]
  },
  {
   "cell_type": "markdown",
   "metadata": {},
   "source": [
    "#### State labels\n",
    "\n",
    "The state space can be any list of values (like ['cloud', 'rain', 'sun']).  If `state_labels` are not specified, the default is to label the states 0, 1, 2, ...  When the states are numerical values, plots can be created, and methods like `.mean()` and `.sd()` can be applied."
   ]
  },
  {
   "cell_type": "code",
   "execution_count": 7,
   "metadata": {
    "collapsed": true
   },
   "outputs": [],
   "source": [
    "TransitionMatrix = [[0.3, 0.2, 0.5],\n",
    "                   [0.5, 0.3, 0.2],\n",
    "                   [0.3, 0.0, 0.7]]\n",
    "\n",
    "InitialDistribution = [0, 0, 1] # sunny on Sunday\n",
    "\n",
    "X = MarkovChain(TransitionMatrix, InitialDistribution)"
   ]
  },
  {
   "cell_type": "code",
   "execution_count": 8,
   "metadata": {
    "collapsed": false
   },
   "outputs": [
    {
     "data": {
      "image/png": "[encoded data removed]",
      "text/plain": [
       "<matplotlib.figure.Figure at 0x781ad68>"
      ]
     },
     "metadata": {},
     "output_type": "display_data"
    }
   ],
   "source": [
    "X.sim(1).plot(alpha = 1)"
   ]
  },
  {
   "cell_type": "code",
   "execution_count": 9,
   "metadata": {
    "collapsed": false
   },
   "outputs": [
    {
     "data": {
      "image/png": "[encoded data removed]",
      "text/plain": [
       "<matplotlib.figure.Figure at 0x7880e48>"
      ]
     },
     "metadata": {},
     "output_type": "display_data"
    }
   ],
   "source": [
    "X.sim(10).plot()"
   ]
  },
  {
   "cell_type": "code",
   "execution_count": 10,
   "metadata": {
    "collapsed": false
   },
   "outputs": [
    {
     "data": {
      "image/png": "[encoded data removed]",
      "text/plain": [
       "<matplotlib.figure.Figure at 0x7cd5dd8>"
      ]
     },
     "metadata": {},
     "output_type": "display_data"
    }
   ],
   "source": [
    "X[5].sim(10000).plot()"
   ]
  },
  {
   "cell_type": "code",
   "execution_count": 11,
   "metadata": {
    "collapsed": false
   },
   "outputs": [
    {
     "data": {
      "image/png": "[encoded data removed]",
      "text/plain": [
       "<matplotlib.figure.Figure at 0x8595320>"
      ]
     },
     "metadata": {},
     "output_type": "display_data"
    }
   ],
   "source": [
    "(X[5] | (X[4] == 1) ).sim(10000).plot()"
   ]
  },
  {
   "cell_type": "code",
   "execution_count": 12,
   "metadata": {
    "collapsed": false
   },
   "outputs": [
    {
     "data": {
      "image/png": "[encoded data removed]",
      "text/plain": [
       "<matplotlib.figure.Figure at 0x85fa0b8>"
      ]
     },
     "metadata": {},
     "output_type": "display_data"
    }
   ],
   "source": [
    "(X[4] & X[5]).sim(10000).plot(jitter = True)"
   ]
  },
  {
   "cell_type": "markdown",
   "metadata": {},
   "source": [
    "<a id='ctmc'></a>"
   ]
  },
  {
   "cell_type": "markdown",
   "metadata": {},
   "source": [
    "### Continuous time Markov chains"
   ]
  },
  {
   "cell_type": "markdown",
   "metadata": {},
   "source": [
    "A **continuous time Markov chain** is a continuous time, discrete state [random process](process.html) which satisfies for all $t$:\n",
    "\n",
    "Given $X_t$ (\"the present\"), $(X_{u},u \\ge t)$ (\"the future\") is conditionally independent of $(X_{s}, s \\le t )$ (\"the past\"). \n",
    "\n",
    "In a discrete time Markov chain, state transitions occur at every point in time, $n = 0, 1, 2, \\ldots$.  A continuous time Markov chain behaves like a discrete time Markov chain in which the times between state transitions are independent and exponentially distributed.\n",
    "\n",
    "* The amount of time a chain stays in a state has an exponential distribution, with a rate parameter that can depend on the current state.\n",
    "* When the chain \"jumps\" to a new state, the jumps behave like a discrete time Markov chain.\n",
    "* The times between jumps are independent.\n",
    "\n",
    "\n",
    "In Symbulate a continuous time Markov chain is defined with `ContinuousTimeMarkovChain`.  The probabilistic behavior of a continuous time Markov chain is fully specified by the following, which are the parameters of `ContinuousMarkovChain`.\n",
    "\n",
    "* `state_labels`: The **state space** of possible values of the process.  (Default is to label the states 0, 1, 2, ...)\n",
    "* `initial_dist`: The **initial distribution**, which specifies the probability distribution at time 0\n",
    "* `generator_matrix`: The **generator matrix** or **transition rate matrix**, $Q$, whose $(i, j)$  entry specifies the rate at which the chain \"attempts to transition\" to state $j$ given that it is currently in state $i$.\n",
    "  * For small $h$, $P(X_{t+h} = j\\, | X_t = i) \\approx h q(i,j)$\n",
    "  * The total departure rate from states $i$ is $\\lambda(i) = \\sum_{j\\neq i} q(i,j)$\n",
    "  * The diagonal entries are the $-1$ times the total departure rates from each state, $q(i,i) = -\\lambda(i)$, so that the all row sums are 0.\n",
    "  * The probability that when the chain departs state $i$ it jumps to state $j$ is $q(i,j)/\\lambda(i)$."
   ]
  },
  {
   "cell_type": "markdown",
   "metadata": {},
   "source": [
    "*Example.* The weather in a certain city can be classified as either cloudy, rainy, or sunny and follows a continuous time Markov chain.\n",
    "* Given that it is cloudy currently, it will next be rainy with probability 0.3, or sunny with probability 0.7.\n",
    "* Given that it is rainy currently, it will next be cloudy with probability 0.6 or sunny with probability 0.4.\n",
    "* Given that it is sunny currently, it will next be cloudy with probability 1.\n",
    "* On average it stays cloudy for 2 days, rainy for 1 day, and sunny for 3 days.\n",
    "\n",
    "Suppose that it is currently sunny."
   ]
  },
  {
   "cell_type": "code",
   "execution_count": 13,
   "metadata": {
    "collapsed": true
   },
   "outputs": [],
   "source": [
    "states = [\"cloud\", \"rain\", \"sun\"]\n",
    "\n",
    "Q = [[-0.50, 0.15, 0.35],\n",
    "     [ 0.60,   -1, 0.40],\n",
    "     [  1/3,  0.0, -1/3]]\n",
    "\n",
    "InitialDistribution = [0, 0, 1] # sunny currently\n",
    "\n",
    "X = ContinuousTimeMarkovChain(Q, InitialDistribution, states)"
   ]
  },
  {
   "cell_type": "markdown",
   "metadata": {},
   "source": [
    "If it is currently sunny, find the probability that it is raining 36 hours from now."
   ]
  },
  {
   "cell_type": "code",
   "execution_count": 14,
   "metadata": {
    "collapsed": false
   },
   "outputs": [
    {
     "data": {
      "text/html": [
       "\n",
       "    <table>\n",
       "      <thead>\n",
       "        <th width=\"80%\">Outcome</th>\n",
       "        <th width=\"20%\">Value</th>\n",
       "      </thead>\n",
       "      <tbody>\n",
       "        <tr><td>cloud</td><td>0.2814</td></tr><tr><td>rain</td><td>0.0249</td></tr><tr><td>sun</td><td>0.6937</td></tr><tr><td><b>Total</b></td><td><b>1.0</b></td></tr>\n",
       "      </tbody>\n",
       "    </table>\n",
       "    "
      ],
      "text/plain": [
       "{'cloud': 0.2814, 'rain': 0.0249, 'sun': 0.6937}"
      ]
     },
     "execution_count": 14,
     "metadata": {},
     "output_type": "execute_result"
    }
   ],
   "source": [
    "X[1.5].sim(10000).tabulate(normalize = True)"
   ]
  },
  {
   "cell_type": "markdown",
   "metadata": {},
   "source": [
    "Given that it is raining 36 hours from now, find the probability that it is sunny 48 hours from now."
   ]
  },
  {
   "cell_type": "code",
   "execution_count": 15,
   "metadata": {
    "collapsed": false
   },
   "outputs": [
    {
     "data": {
      "text/html": [
       "\n",
       "    <table>\n",
       "      <thead>\n",
       "        <th width=\"80%\">Outcome</th>\n",
       "        <th width=\"20%\">Value</th>\n",
       "      </thead>\n",
       "      <tbody>\n",
       "        <tr><td>cloud</td><td>0.2219</td></tr><tr><td>rain</td><td>0.6098</td></tr><tr><td>sun</td><td>0.1683</td></tr><tr><td><b>Total</b></td><td><b>1.0</b></td></tr>\n",
       "      </tbody>\n",
       "    </table>\n",
       "    "
      ],
      "text/plain": [
       "{'cloud': 0.2219, 'rain': 0.6098, 'sun': 0.1683}"
      ]
     },
     "execution_count": 15,
     "metadata": {},
     "output_type": "execute_result"
    }
   ],
   "source": [
    "(X[2] | (X[1.5] == \"rain\")).sim(10000).tabulate(normalize = True)"
   ]
  },
  {
   "cell_type": "markdown",
   "metadata": {},
   "source": [
    "#### State labels\n",
    "\n",
    "As for discrete time Markov chains, the state space for a continuous time Markov chain can be any list of values (like ['cloud', 'rain', 'sun']).  If `state_labels` are not specified, the default is to label the states 0, 1, 2, ...  When the states are numerical values, plots can be created, and methods like `.mean()` and `.sd()` can be applied."
   ]
  },
  {
   "cell_type": "code",
   "execution_count": 16,
   "metadata": {
    "collapsed": false
   },
   "outputs": [
    {
     "data": {
      "image/png": "[encoded data removed]",
      "text/plain": [
       "<matplotlib.figure.Figure at 0x7c9a7f0>"
      ]
     },
     "metadata": {},
     "output_type": "display_data"
    }
   ],
   "source": [
    "Q = [[-0.50, 0.15, 0.35],\n",
    "     [ 0.60,   -1, 0.40],\n",
    "     [  1/3,  0.0, -1/3]]\n",
    "\n",
    "\n",
    "InitialDistribution = [0, 0, 1] # sunny currently\n",
    "\n",
    "X = ContinuousTimeMarkovChain(Q, InitialDistribution)\n",
    "\n",
    "X.sim(1).plot(alpha = 1)"
   ]
  },
  {
   "cell_type": "markdown",
   "metadata": {},
   "source": [
    "<a id='poisson'></a>"
   ]
  },
  {
   "cell_type": "markdown",
   "metadata": {},
   "source": [
    "### Poisson processes\n",
    "\n",
    "Events occurs over time according to a **Poisson process** $N(t), t\\ge0$, with rate $\\lambda$ if at most one event occurs at a time, the times between events are indepent and exponentially distributed with rate $\\lambda$, and $N(t)$ counts the number of events that occur in the time interval $[0,t]$ (with $N(0) = 0$).  In other words, a Poisson process is a continuous time Markov chain whose rate matrix $Q$ satisfies\n",
    "$$\n",
    "q(i, j) =\n",
    "\\begin{cases}\n",
    "\\lambda, & j = i+1,\\\\\n",
    "-\\lambda, & j = i,\\\\\n",
    "0, & \\text{otherwise.}\n",
    "\\end{cases}\n",
    "$$\n",
    "\n",
    "In Symbulate, `PoissonProcess` defines a Poisson process; the single parameter is `rate`."
   ]
  },
  {
   "cell_type": "markdown",
   "metadata": {},
   "source": [
    "*Example.* Customers arrive according a Poisson process with rate 2 per minute."
   ]
  },
  {
   "cell_type": "code",
   "execution_count": 17,
   "metadata": {
    "collapsed": true
   },
   "outputs": [],
   "source": [
    "N = PoissonProcess(rate = 2)"
   ]
  },
  {
   "cell_type": "markdown",
   "metadata": {},
   "source": [
    "Simulate and plot a single sample path, and find the process value for this sample path at time 4"
   ]
  },
  {
   "cell_type": "code",
   "execution_count": 18,
   "metadata": {
    "collapsed": false
   },
   "outputs": [
    {
     "data": {
      "text/html": [
       "\n",
       "    <table>\n",
       "      <thead>\n",
       "        <th width=\"10%\">Index</th>\n",
       "        <th width=\"90%\">Result</th>\n",
       "      </thead>\n",
       "      <tbody>\n",
       "        \n",
       "        <tr>\n",
       "          <td>0</td><td>6</td>\n",
       "        </tr>\n",
       "        \n",
       "      </tbody>\n",
       "    </table>\n",
       "    "
      ],
      "text/plain": [
       "[6]"
      ]
     },
     "execution_count": 18,
     "metadata": {},
     "output_type": "execute_result"
    },
    {
     "data": {
      "image/png": "[encoded data removed]",
      "text/plain": [
       "<matplotlib.figure.Figure at 0x7c88550>"
      ]
     },
     "metadata": {},
     "output_type": "display_data"
    }
   ],
   "source": [
    "n = N.sim(1)\n",
    "n.plot(alpha = 1)\n",
    "n[4]"
   ]
  },
  {
   "cell_type": "markdown",
   "metadata": {},
   "source": [
    "Simulate many sample paths and plot the mean function"
   ]
  },
  {
   "cell_type": "code",
   "execution_count": 19,
   "metadata": {
    "collapsed": false
   },
   "outputs": [
    {
     "data": {
      "image/png": "[encoded data removed]",
      "text/plain": [
       "<matplotlib.figure.Figure at 0x7875208>"
      ]
     },
     "metadata": {},
     "output_type": "display_data"
    }
   ],
   "source": [
    "sims = N.sim(100)\n",
    "sims.plot()\n",
    "sims.mean().plot('r--')"
   ]
  },
  {
   "cell_type": "markdown",
   "metadata": {},
   "source": [
    "Approximate the distribution of $N(3)$, the number of customers who arrive in the first 3 minutes, and its mean and variance.  (Should be Poisson(6).)"
   ]
  },
  {
   "cell_type": "code",
   "execution_count": 20,
   "metadata": {
    "collapsed": false
   },
   "outputs": [
    {
     "data": {
      "text/plain": [
       "(5.9779999999999998, 5.869516)"
      ]
     },
     "execution_count": 20,
     "metadata": {},
     "output_type": "execute_result"
    },
    {
     "data": {
      "image/png": "[encoded data removed]",
      "text/plain": [
       "<matplotlib.figure.Figure at 0x78734e0>"
      ]
     },
     "metadata": {},
     "output_type": "display_data"
    }
   ],
   "source": [
    "sims = N[3].sim(10000)\n",
    "sims.plot()\n",
    "sims.mean(), sims.var()"
   ]
  },
  {
   "cell_type": "markdown",
   "metadata": {},
   "source": [
    "<a id='times'></a>"
   ]
  },
  {
   "cell_type": "markdown",
   "metadata": {},
   "source": [
    "### Arrival and jump times\n",
    "\n",
    "For continuous time Markov chains (including Poisson processes) the times between jumps (or arrivals) and the times of the jumps themselves are random variables.  These random times can be accessed with `.JumpTimes()` or `InterjumpTimes()`.  The jump times and interjump times are sequences; individual components can be accessed with brackets, e.g. `.JumpTimes()[1]` for the time of the first jump.\n",
    "\n",
    "The sequences of states the chain visits can be accessed with `.States()`."
   ]
  },
  {
   "cell_type": "markdown",
   "metadata": {},
   "source": [
    "*Example*.  Continuing the weather example."
   ]
  },
  {
   "cell_type": "code",
   "execution_count": 32,
   "metadata": {
    "collapsed": true
   },
   "outputs": [],
   "source": [
    "states = [\"cloud\", \"rain\", \"sun\"]\n",
    "\n",
    "Q = [[-0.50, 0.15, 0.35],\n",
    "     [ 0.60,   -1, 0.40],\n",
    "     [  1/3,  0.0, -1/3]]\n",
    "\n",
    "\n",
    "InitialDistribution = [0, 0, 1] # sunny currently\n",
    "\n",
    "X = ContinuousTimeMarkovChain(Q, InitialDistribution, states)"
   ]
  },
  {
   "cell_type": "markdown",
   "metadata": {},
   "source": [
    "Simulate the jump times for one sample path."
   ]
  },
  {
   "cell_type": "code",
   "execution_count": 33,
   "metadata": {
    "collapsed": false
   },
   "outputs": [
    {
     "data": {
      "text/html": [
       "\n",
       "    <table>\n",
       "      <thead>\n",
       "        <th width=\"10%\">Index</th>\n",
       "        <th width=\"90%\">Result</th>\n",
       "      </thead>\n",
       "      <tbody>\n",
       "        \n",
       "        <tr>\n",
       "          <td>0</td><td>(0, 0.9834169980526409, 1.0741641711318073, 9.14510341521592, 13.593042863659068, 14.098688534020692...</td>\n",
       "        </tr>\n",
       "        \n",
       "      </tbody>\n",
       "    </table>\n",
       "    "
      ],
      "text/plain": [
       "[(0, 0.9834169980526409, 1.0741641711318073, 9.14510341521592, 13.593042863659068, 14.098688534020692, 14.7322872480728, 15.00330784114811, 16.071973133638117, 16.17918538511127, '...')]"
      ]
     },
     "execution_count": 33,
     "metadata": {},
     "output_type": "execute_result"
    }
   ],
   "source": [
    "X.JumpTimes().sim(1)"
   ]
  },
  {
   "cell_type": "markdown",
   "metadata": {},
   "source": [
    "Simulate the state sequence for one sample path."
   ]
  },
  {
   "cell_type": "code",
   "execution_count": 34,
   "metadata": {
    "collapsed": false
   },
   "outputs": [
    {
     "data": {
      "text/html": [
       "\n",
       "    <table>\n",
       "      <thead>\n",
       "        <th width=\"10%\">Index</th>\n",
       "        <th width=\"90%\">Result</th>\n",
       "      </thead>\n",
       "      <tbody>\n",
       "        \n",
       "        <tr>\n",
       "          <td>0</td><td>('sun', 'cloud', 'sun', 'cloud', 'sun', 'cloud', 'sun', 'cloud', 'sun', 'cloud', '...')</td>\n",
       "        </tr>\n",
       "        \n",
       "      </tbody>\n",
       "    </table>\n",
       "    "
      ],
      "text/plain": [
       "[('sun', 'cloud', 'sun', 'cloud', 'sun', 'cloud', 'sun', 'cloud', 'sun', 'cloud', '...')]"
      ]
     },
     "execution_count": 34,
     "metadata": {},
     "output_type": "execute_result"
    }
   ],
   "source": [
    "X.States().sim(1)"
   ]
  },
  {
   "cell_type": "markdown",
   "metadata": {},
   "source": [
    "Let $T$ denote the time at which the weather moves from being currently sunny to a different state (either rainy or cloudy.)"
   ]
  },
  {
   "cell_type": "code",
   "execution_count": 35,
   "metadata": {
    "collapsed": false
   },
   "outputs": [
    {
     "data": {
      "text/plain": [
       "(2.9979646507207174, 8.7659488728637385)"
      ]
     },
     "execution_count": 35,
     "metadata": {},
     "output_type": "execute_result"
    },
    {
     "data": {
      "image/png": "[encoded data removed]",
      "text/plain": [
       "<matplotlib.figure.Figure at 0x87fbe48>"
      ]
     },
     "metadata": {},
     "output_type": "display_data"
    }
   ],
   "source": [
    "T = X.JumpTimes()[1]\n",
    "sims = T.sim(10000)\n",
    "sims.plot()\n",
    "sims.mean(), sims.var()"
   ]
  },
  {
   "cell_type": "markdown",
   "metadata": {},
   "source": [
    "Note that InterjumpTimes are indexed starting at 0, so `.InterjumpTimes()[0]` is time between time 0 and the first jump, `.InterjumpTimes()[1]` is the time between the first and second jump, etc."
   ]
  },
  {
   "cell_type": "code",
   "execution_count": 36,
   "metadata": {
    "collapsed": false
   },
   "outputs": [
    {
     "data": {
      "text/plain": [
       "(3.0228944542707921, 9.428434152121044)"
      ]
     },
     "execution_count": 36,
     "metadata": {},
     "output_type": "execute_result"
    },
    {
     "data": {
      "image/png": "[encoded data removed]",
      "text/plain": [
       "<matplotlib.figure.Figure at 0x7844cf8>"
      ]
     },
     "metadata": {},
     "output_type": "display_data"
    }
   ],
   "source": [
    "T = X.InterjumpTimes()[0]\n",
    "sims = T.sim(10000)\n",
    "sims.plot()\n",
    "sims.mean(), sims.var()"
   ]
  },
  {
   "cell_type": "markdown",
   "metadata": {},
   "source": [
    "For a continuous time Markov chain, the times between jumps are independent."
   ]
  },
  {
   "cell_type": "code",
   "execution_count": 37,
   "metadata": {
    "collapsed": false
   },
   "outputs": [
    {
     "data": {
      "text/plain": [
       "-0.0038167350734502935"
      ]
     },
     "execution_count": 37,
     "metadata": {},
     "output_type": "execute_result"
    },
    {
     "data": {
      "image/png": "[encoded data removed]",
      "text/plain": [
       "<matplotlib.figure.Figure at 0x87920b8>"
      ]
     },
     "metadata": {},
     "output_type": "display_data"
    }
   ],
   "source": [
    "sims = (X.InterjumpTimes()[0] & X.InterjumpTimes()[1]).sim(10000)\n",
    "sims.plot(alpha = 0.1)\n",
    "sims.corr()"
   ]
  },
  {
   "cell_type": "markdown",
   "metadata": {},
   "source": [
    "For a `PoissonProcess`, arrival times and interarrival times can be accessed with `.ArrivalTimes()` and `.InterarrivalTimes()`.\n",
    "\n",
    "*Example.* Let $N$ be a Poisson process with rate 2.  "
   ]
  },
  {
   "cell_type": "code",
   "execution_count": 38,
   "metadata": {
    "collapsed": true
   },
   "outputs": [],
   "source": [
    "N = PoissonProcess(rate = 2)"
   ]
  },
  {
   "cell_type": "markdown",
   "metadata": {},
   "source": [
    "Simulate the arrival times for one sample path."
   ]
  },
  {
   "cell_type": "code",
   "execution_count": 39,
   "metadata": {
    "collapsed": false
   },
   "outputs": [
    {
     "data": {
      "text/html": [
       "\n",
       "    <table>\n",
       "      <thead>\n",
       "        <th width=\"10%\">Index</th>\n",
       "        <th width=\"90%\">Result</th>\n",
       "      </thead>\n",
       "      <tbody>\n",
       "        \n",
       "        <tr>\n",
       "          <td>0</td><td>(0, 0.8640300969286562, 0.9401654731275548, 2.0334446510937196, 2.3658356748002345, 2.78786179488752...</td>\n",
       "        </tr>\n",
       "        \n",
       "      </tbody>\n",
       "    </table>\n",
       "    "
      ],
      "text/plain": [
       "[<symbulate.sequences.TimeFunction at 0x87927f0>]"
      ]
     },
     "execution_count": 39,
     "metadata": {},
     "output_type": "execute_result"
    }
   ],
   "source": [
    "N.ArrivalTimes().sim(1)"
   ]
  },
  {
   "cell_type": "markdown",
   "metadata": {},
   "source": [
    "Let $T$ be the time of the first arrival. Approximate the distribution of $T$, and its mean and variance.  (Should be Exponential with rate 2.)"
   ]
  },
  {
   "cell_type": "code",
   "execution_count": 40,
   "metadata": {
    "collapsed": false
   },
   "outputs": [
    {
     "data": {
      "text/plain": [
       "(0.49370438944328099, 0.23722863633159022)"
      ]
     },
     "execution_count": 40,
     "metadata": {},
     "output_type": "execute_result"
    },
    {
     "data": {
      "image/png": "[encoded data removed]",
      "text/plain": [
       "<matplotlib.figure.Figure at 0x7cad198>"
      ]
     },
     "metadata": {},
     "output_type": "display_data"
    }
   ],
   "source": [
    "T = N.ArrivalTimes()[1]\n",
    "t = T.sim(10000)\n",
    "t.plot()\n",
    "t.mean(), t.var()"
   ]
  },
  {
   "cell_type": "markdown",
   "metadata": {},
   "source": [
    "Approximate the conditional distribution of $T$ given that there is exactly 1 arrival in the first 3 units of time.  (Should be Uniform on (0,3).)"
   ]
  },
  {
   "cell_type": "code",
   "execution_count": 41,
   "metadata": {
    "collapsed": false
   },
   "outputs": [
    {
     "data": {
      "image/png": "[encoded data removed]",
      "text/plain": [
       "<matplotlib.figure.Figure at 0x78cd7f0>"
      ]
     },
     "metadata": {},
     "output_type": "display_data"
    }
   ],
   "source": [
    "(T | (N[3] == 1)).sim(10000).plot()"
   ]
  },
  {
   "cell_type": "markdown",
   "metadata": {},
   "source": [
    "The times between the first two arrivals should be independent "
   ]
  },
  {
   "cell_type": "code",
   "execution_count": 42,
   "metadata": {
    "collapsed": false
   },
   "outputs": [
    {
     "data": {
      "text/plain": [
       "0.014198465340448996"
      ]
     },
     "execution_count": 42,
     "metadata": {},
     "output_type": "execute_result"
    },
    {
     "data": {
      "image/png": "[encoded data removed]",
      "text/plain": [
       "<matplotlib.figure.Figure at 0x7cad5f8>"
      ]
     },
     "metadata": {},
     "output_type": "display_data"
    }
   ],
   "source": [
    "W0 = N.InterarrivalTimes()[0]\n",
    "W1 = N.InterarrivalTimes()[1]\n",
    "\n",
    "sims = (W0 & W1).sim(10000)\n",
    "sims.plot()\n",
    "sims.corr()"
   ]
  },
  {
   "cell_type": "markdown",
   "metadata": {},
   "source": [
    "< [Random processes](process.html) | [Contents](index.html) >"
   ]
  },
  {
   "cell_type": "code",
   "execution_count": null,
   "metadata": {
    "collapsed": true
   },
   "outputs": [],
   "source": []
  }
 ],
 "metadata": {
  "anaconda-cloud": {},
  "kernelspec": {
   "display_name": "Python 3",
   "language": "python",
   "name": "python3"
  },
  "language_info": {
   "codemirror_mode": {
    "name": "ipython",
    "version": 3
   },
   "file_extension": ".py",
   "mimetype": "text/x-python",
   "name": "python",
   "nbconvert_exporter": "python",
   "pygments_lexer": "ipython3",
   "version": "3.6.0"
  }
 },
 "nbformat": 4,
 "nbformat_minor": 1
}
